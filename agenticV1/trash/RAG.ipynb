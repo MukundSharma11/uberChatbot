{
 "cells": [
  {
   "cell_type": "code",
   "execution_count": 104,
   "id": "916f02d6",
   "metadata": {},
   "outputs": [],
   "source": [
    "from langchain_community.document_loaders.pdf import PyPDFLoader\n",
    "from langchain_core.documents import Document\n",
    "from langchain_text_splitters import RecursiveCharacterTextSplitter\n",
    "from sentence_transformers import SentenceTransformer\n",
    "from langchain_community.vectorstores import FAISS\n",
    "from langchain_community.embeddings import HuggingFaceEmbeddings\n",
    "from langchain_groq import ChatGroq\n",
    "from langchain_core.prompts import PromptTemplate\n",
    "from langchain_core.runnables import RunnableParallel, RunnableLambda, RunnablePassthrough\n",
    "from langchain_core.output_parsers import StrOutputParser\n",
    "import faiss\n",
    "import os"
   ]
  },
  {
   "cell_type": "markdown",
   "id": "ac7e1f42",
   "metadata": {},
   "source": [
    "Indexing"
   ]
  },
  {
   "cell_type": "code",
   "execution_count": 110,
   "id": "5dcc4fd7",
   "metadata": {},
   "outputs": [],
   "source": [
    "class Indexing:\n",
    "    def __init__(self, embedding_model_name=\"sentence-transformers/all-MiniLM-L6-v2\", chunk_size=1000, chunk_overlap=200):\n",
    "        self.embedding_function = HuggingFaceEmbeddings(model_name=embedding_model_name)\n",
    "        self.splitter = RecursiveCharacterTextSplitter(chunk_size=chunk_size, chunk_overlap=chunk_overlap)\n",
    "\n",
    "    def load_pdfs_as_single_document(self, directory_path):\n",
    "        pdf_docs = {}\n",
    "        \n",
    "        for filename in os.listdir(directory_path):\n",
    "            if filename.lower().endswith(\".pdf\"):\n",
    "                file_path = os.path.join(directory_path, filename)\n",
    "                loader = PyPDFLoader(file_path)\n",
    "                pages = loader.load()\n",
    "                \n",
    "                # Combine all page contents\n",
    "                full_text = \"\\n\".join([page.page_content for page in pages])\n",
    "                \n",
    "                # Create a single Document\n",
    "                merged_doc = Document(\n",
    "                    page_content=full_text,\n",
    "                    metadata={\"source\": filename}\n",
    "                )\n",
    "                \n",
    "                pdf_docs[filename] = merged_doc\n",
    "        \n",
    "        return pdf_docs\n",
    "\n",
    "    def split_pdf_documents(self, pdf_documents):\n",
    "        all_chunks = []\n",
    "        \n",
    "        for filename, document in pdf_documents.items():\n",
    "            chunks = self.splitter.split_documents([document])\n",
    "            \n",
    "            for chunk in chunks:\n",
    "                chunk.metadata[\"source\"] = filename\n",
    "                chunk.page_content = f\"Source: {filename}\\n\" + chunk.page_content\n",
    "            \n",
    "            all_chunks.extend(chunks)\n",
    "        \n",
    "        return all_chunks\n",
    "\n",
    "    def create_vector_store(self, chunks):\n",
    "        return FAISS.from_documents(chunks, self.embedding_function)"
   ]
  },
  {
   "cell_type": "code",
   "execution_count": 111,
   "id": "a12c61b0",
   "metadata": {},
   "outputs": [
    {
     "name": "stderr",
     "output_type": "stream",
     "text": [
      "Ignoring wrong pointing object 64 0 (offset 0)\n",
      "Ignoring wrong pointing object 65 0 (offset 0)\n",
      "Ignoring wrong pointing object 34 0 (offset 0)\n",
      "Ignoring wrong pointing object 35 0 (offset 0)\n",
      "Ignoring wrong pointing object 13 0 (offset 0)\n",
      "Ignoring wrong pointing object 14 0 (offset 0)\n",
      "Ignoring wrong pointing object 43 0 (offset 0)\n",
      "Ignoring wrong pointing object 44 0 (offset 0)\n",
      "Ignoring wrong pointing object 38 0 (offset 0)\n",
      "Ignoring wrong pointing object 39 0 (offset 0)\n",
      "Ignoring wrong pointing object 64 0 (offset 0)\n",
      "Ignoring wrong pointing object 65 0 (offset 0)\n",
      "Ignoring wrong pointing object 42 0 (offset 0)\n",
      "Ignoring wrong pointing object 43 0 (offset 0)\n",
      "Ignoring wrong pointing object 13 0 (offset 0)\n",
      "Ignoring wrong pointing object 14 0 (offset 0)\n",
      "Ignoring wrong pointing object 29 0 (offset 0)\n",
      "Ignoring wrong pointing object 30 0 (offset 0)\n"
     ]
    }
   ],
   "source": [
    "indexer = Indexing()\n",
    "\n",
    "# Step 1: Load PDFs\n",
    "pdf_documents = indexer.load_pdfs_as_single_document(\"/Users/mukki11/Documents/UberChatbot/Resources for Uber Rider Help Chatbot/Pdf's\")\n",
    "\n",
    "# Step 2: Split into chunks\n",
    "chunks = indexer.split_pdf_documents(pdf_documents)\n",
    "\n",
    "# Step 3: Create FAISS vector store\n",
    "vector_store = indexer.create_vector_store(chunks)"
   ]
  },
  {
   "cell_type": "markdown",
   "id": "35bc8f81",
   "metadata": {},
   "source": [
    "Retriever"
   ]
  },
  {
   "cell_type": "code",
   "execution_count": 112,
   "id": "4e7b93c3",
   "metadata": {},
   "outputs": [
    {
     "data": {
      "text/plain": [
       "VectorStoreRetriever(tags=['FAISS', 'HuggingFaceEmbeddings'], vectorstore=<langchain_community.vectorstores.faiss.FAISS object at 0x14d5e73a0>, search_kwargs={'k': 3})"
      ]
     },
     "execution_count": 112,
     "metadata": {},
     "output_type": "execute_result"
    }
   ],
   "source": [
    "retriever = vector_store.as_retriever(search_type = 'similarity', search_kwargs = {'k': 3})\n",
    "retriever"
   ]
  },
  {
   "cell_type": "code",
   "execution_count": 113,
   "id": "1d57dae4",
   "metadata": {},
   "outputs": [],
   "source": [
    "def format_docs(retrieved_docs):\n",
    "    context = \"\\n\\n\".join(doc.page_content for doc in retrieved_docs)\n",
    "    return context"
   ]
  },
  {
   "cell_type": "markdown",
   "id": "8f7666b6",
   "metadata": {},
   "source": [
    "Prompt Formation"
   ]
  },
  {
   "cell_type": "code",
   "execution_count": 114,
   "id": "87db73be",
   "metadata": {},
   "outputs": [],
   "source": [
    "llm = ChatGroq(model='gemma2-9b-it')\n",
    "\n",
    "prompt = PromptTemplate(\n",
    "    template = \"\"\"\n",
    "    You are a helpful AI assisstant\n",
    "    Answer only from the provided context\n",
    "    If you dont know answer to the query asked, just say I dont know\n",
    "\n",
    "    Context: {context}\n",
    "    Question: {question}\n",
    "    \"\"\",\n",
    "    input_variables = ['context', 'question']\n",
    ")"
   ]
  },
  {
   "cell_type": "markdown",
   "id": "9f9bb4e8",
   "metadata": {},
   "source": [
    "Chaining all the components"
   ]
  },
  {
   "cell_type": "code",
   "execution_count": 115,
   "id": "feb13f9f",
   "metadata": {},
   "outputs": [],
   "source": [
    "parallel_chain = RunnableParallel({\n",
    "    'context': retriever | RunnableLambda(format_docs),\n",
    "    'question': RunnablePassthrough()\n",
    "})"
   ]
  },
  {
   "cell_type": "code",
   "execution_count": null,
   "id": "f49205b5",
   "metadata": {},
   "outputs": [],
   "source": [
    "chain = parallel_chain | prompt | llm"
   ]
  },
  {
   "cell_type": "code",
   "execution_count": 123,
   "id": "88f9a218",
   "metadata": {},
   "outputs": [
    {
     "name": "stdout",
     "output_type": "stream",
     "text": [
      "==================================\u001b[1m Ai Message \u001b[0m==================================\n",
      "\n",
      "You may be charged a different amount than your upfront fare in case the route deviates from the predicted route.\n",
      "\n",
      "We are happy to review these cases if you feel you were overcharged.\n"
     ]
    }
   ],
   "source": [
    "response = chain.invoke('My fare for the recent trip was very high')\n",
    "response.pretty_print()"
   ]
  },
  {
   "cell_type": "code",
   "execution_count": 109,
   "id": "2546af61",
   "metadata": {},
   "outputs": [],
   "source": [
    "# # Example usage\n",
    "# directory = \"/Users/mukki11/Documents/UberChatbot/Resources for Uber Rider Help Chatbot/Pdf's\"\n",
    "# pdf_documents = load_pdfs_as_single_document(directory)\n",
    "\n",
    "## Example output\n",
    "# for pdf_name, doc in pdf_documents.items():\n",
    "#     print(f\"{pdf_name}: {len(doc.page_content)} characters\")\n",
    "\n",
    "# chunks = split_pdf_documents(pdf_documents)\n",
    "# print(chunks[0].page_content), len(chunks)\n",
    "\n",
    "# vector_store.index_to_docstore_id\n",
    "# vector_store.get_by_ids([\"f431b990-b5a9-42c5-ad12-e6f57e8c8118\"])\n",
    "\n",
    "# retriever.invoke('I lost my items in an uber')\n",
    "\n",
    "# query = 'I lost my items in an uber'\n",
    "# retrieved_docs = retriever.invoke(query)\n",
    "\n",
    "# context_text = \"\\n\\n\".join(doc.page_content for doc in retrieved_docs)\n",
    "# context_text\n",
    "\n",
    "# final_prompt = prompt.invoke({'context': context_text, 'question': query})\n",
    "# final_prompt\n",
    "\n",
    "# response = llm.invoke(final_prompt)\n",
    "# response"
   ]
  }
 ],
 "metadata": {
  "kernelspec": {
   "display_name": "myenv",
   "language": "python",
   "name": "python3"
  },
  "language_info": {
   "codemirror_mode": {
    "name": "ipython",
    "version": 3
   },
   "file_extension": ".py",
   "mimetype": "text/x-python",
   "name": "python",
   "nbconvert_exporter": "python",
   "pygments_lexer": "ipython3",
   "version": "3.10.14"
  }
 },
 "nbformat": 4,
 "nbformat_minor": 5
}
